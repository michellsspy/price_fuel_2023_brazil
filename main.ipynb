{
 "cells": [
  {
   "cell_type": "markdown",
   "metadata": {},
   "source": [
    "# Combustíveis Automotivos 1° e 2° Semestres de 2023\n",
    "<div style=\"text-align: right;\">04/02/2024</div>\n",
    "\n",
    "## Autor: Michel Santana"
   ]
  },
  {
   "cell_type": "markdown",
   "metadata": {},
   "source": [
    "## ETL Insights\n",
    "\n",
    "### **1. Tendências Temporais:**\n",
    "* Como os preços variam ao longo do primeiro e segundo semestre de 2023?\n",
    "* Existem padrões sazonais nos preços?\n",
    "\n",
    "### **2. Desempenho do Produto:**\n",
    "* Quais produtos apresentaram o maior aumento ou diminuição de preço durante esse período?\n",
    "* Existem produtos cujos preços permaneceram relativamente estáveis?\n",
    "\n",
    "### **3. Segmentação de Categoria:**\n",
    "* Como os preços diferem entre diferentes categorias de produtos?\n",
    "* Qual categoria teve a maior variação de preços?\n",
    "\n",
    "### **4. Correlações com Fatores Externos:**\n",
    "* Há correlações entre os preços e fatores externos, como condições climáticas, eventos econômicos ou sazonalidade?\n",
    "\n",
    "### **5. Variações Regionais:**\n",
    "* Existem diferenças significativas nos preços entre diferentes regiões geográficas?\n",
    "\n",
    "### **6. Análise de Margem de Lucro:**\n",
    "* Como as margens de lucro variam entre os produtos?\n",
    "* Existem produtos com margens de lucro consistentemente altas ou baixas?\n",
    "\n",
    "### **7. Impacto de Promoções ou Descontos:**\n",
    "* Qual foi o impacto de promoções ou descontos nos preços?\n",
    "* Como as estratégias de precificação afetaram as vendas?\n",
    "\n",
    "### **8. Identificação de Outliers:**\n",
    "* Existem pontos atípicos nos dados que podem indicar problemas, como erros de entrada ou comportamento incomum?\n",
    "\n",
    "### **9. Previsões de Preços Futuros:**\n",
    "* Com base nos padrões históricos, é possível fazer previsões razoáveis para os preços futuros?\n",
    "* Avaliação de Saúde Financeira:\n",
    "\n",
    "### **10. Como os preços influenciam a receita total da empresa?**\n",
    "* Qual é a saúde financeira geral da empresa com base nos dados de preços?"
   ]
  },
  {
   "cell_type": "markdown",
   "metadata": {},
   "source": [
    "## Fonte dos dados\n",
    "\n",
    "> https://www.gov.br/anp/pt-br/centrais-de-conteudo/dados-abertos/arquivos/shpc/dsas/ca/ca-2023-01.zip\n",
    "\n",
    "> https://www.gov.br/anp/pt-br/centrais-de-conteudo/dados-abertos/arquivos/shpc/dsas/ca/ca-2023-02.zip\n"
   ]
  },
  {
   "cell_type": "markdown",
   "metadata": {},
   "source": [
    "## Baixando os Arquivos ZIP de 2023"
   ]
  },
  {
   "cell_type": "code",
   "execution_count": 34,
   "metadata": {},
   "outputs": [
    {
     "name": "stdout",
     "output_type": "stream",
     "text": [
      "diretorio = /home/michel/Documentos/Projetos_Portifolio/price_fuel_2023_brazil/data/semestre_1\n",
      "Download realizado com sucesso para /home/michel/Documentos/Projetos_Portifolio/price_fuel_2023_brazil/data/semestre_1/arquivo_zip!\n",
      "diretorio = /home/michel/Documentos/Projetos_Portifolio/price_fuel_2023_brazil/data/semestre_2\n",
      "Download realizado com sucesso para /home/michel/Documentos/Projetos_Portifolio/price_fuel_2023_brazil/data/semestre_2/arquivo_zip!\n"
     ]
    }
   ],
   "source": [
    "import os\n",
    "import requests\n",
    "import zipfile\n",
    "\n",
    "urls = [\n",
    "    \"https://www.gov.br/anp/pt-br/centrais-de-conteudo/dados-abertos/arquivos/shpc/dsas/ca/ca-2023-01.zip\",\n",
    "    \"https://www.gov.br/anp/pt-br/centrais-de-conteudo/dados-abertos/arquivos/shpc/dsas/ca/ca-2023-02.zip\"\n",
    "]\n",
    "\n",
    "path = \"/home/michel/Documentos/Projetos_Portifolio/price_fuel_2023_brazil/data/semestre_\"\n",
    "nome_arquivo_local = 'ca-2023-'\n",
    "subpasta = \"arquivo_zip\"\n",
    "\n",
    "for i, url in enumerate(urls):\n",
    "    response = requests.get(url)\n",
    "\n",
    "    if response.status_code == 200:\n",
    "        diretorio_destino = path + str(i + 1)\n",
    "        print(f\"diretorio = {diretorio_destino}\")\n",
    "        \n",
    "        # Verifica se o diretório existe, se não, cria\n",
    "        if not os.path.exists(diretorio_destino):\n",
    "            os.makedirs(diretorio_destino)\n",
    "   \n",
    "        diretorio_zip = os.path.join(diretorio_destino, subpasta)\n",
    "        if not os.path.exists(diretorio_zip):\n",
    "            os.makedirs(diretorio_zip)\n",
    "        \n",
    "        # Salva o arquivo ZIP\n",
    "        with open(os.path.join(diretorio_zip, f\"{nome_arquivo_local}0{str(i + 1)}.zip\"), 'wb') as arquivo:\n",
    "            arquivo.write(response.content)\n",
    "        \n",
    "        # Extrai o conteúdo do arquivo ZIP\n",
    "        with zipfile.ZipFile(os.path.join(diretorio_zip, f\"{nome_arquivo_local}0{str(i + 1)}.zip\"), 'r') as zip_ref:\n",
    "            zip_ref.extractall(diretorio_destino)\n",
    "\n",
    "        print(f\"Download realizado com sucesso para {diretorio_zip}!\")\n",
    "    else:\n",
    "        print(\"Falha no Download!\")\n"
   ]
  }
 ],
 "metadata": {
  "kernelspec": {
   "display_name": "Python 3",
   "language": "python",
   "name": "python3"
  },
  "language_info": {
   "codemirror_mode": {
    "name": "ipython",
    "version": 3
   },
   "file_extension": ".py",
   "mimetype": "text/x-python",
   "name": "python",
   "nbconvert_exporter": "python",
   "pygments_lexer": "ipython3",
   "version": "3.10.12"
  }
 },
 "nbformat": 4,
 "nbformat_minor": 2
}
